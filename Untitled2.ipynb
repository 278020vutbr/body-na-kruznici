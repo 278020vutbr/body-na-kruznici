{
  "nbformat": 4,
  "nbformat_minor": 0,
  "metadata": {
    "colab": {
      "provenance": [],
      "authorship_tag": "ABX9TyOCl1IqJx3NPV+qi1/MHhsn",
      "include_colab_link": true
    },
    "kernelspec": {
      "name": "python3",
      "display_name": "Python 3"
    },
    "language_info": {
      "name": "python"
    }
  },
  "cells": [
    {
      "cell_type": "markdown",
      "metadata": {
        "id": "view-in-github",
        "colab_type": "text"
      },
      "source": [
        "<a href=\"https://colab.research.google.com/github/278020vutbr/body-na-kruznici/blob/main/Untitled2.ipynb\" target=\"_parent\"><img src=\"https://colab.research.google.com/assets/colab-badge.svg\" alt=\"Open In Colab\"/></a>"
      ]
    },
    {
      "cell_type": "code",
      "execution_count": 24,
      "metadata": {
        "colab": {
          "base_uri": "https://localhost:8080/",
          "height": 356
        },
        "id": "ZiW_m3AFFMHb",
        "outputId": "2609b2bb-d232-47cd-ef33-87543d0fa0a2"
      },
      "outputs": [
        {
          "output_type": "error",
          "ename": "KeyboardInterrupt",
          "evalue": "Interrupted by user",
          "traceback": [
            "\u001b[0;31m---------------------------------------------------------------------------\u001b[0m",
            "\u001b[0;31mKeyboardInterrupt\u001b[0m                         Traceback (most recent call last)",
            "\u001b[0;32m/tmp/ipython-input-990390969.py\u001b[0m in \u001b[0;36m<cell line: 0>\u001b[0;34m()\u001b[0m\n\u001b[1;32m     22\u001b[0m \u001b[0;34m\u001b[0m\u001b[0m\n\u001b[1;32m     23\u001b[0m \u001b[0;31m# Parametry (můžeš si změnit podle potřeby)\u001b[0m\u001b[0;34m\u001b[0m\u001b[0;34m\u001b[0m\u001b[0m\n\u001b[0;32m---> 24\u001b[0;31m \u001b[0mstred_x\u001b[0m \u001b[0;34m=\u001b[0m \u001b[0mfloat\u001b[0m\u001b[0;34m(\u001b[0m\u001b[0minput\u001b[0m\u001b[0;34m(\u001b[0m\u001b[0;34m\"Zadejte X souřadnici středu (v metrech): \"\u001b[0m\u001b[0;34m)\u001b[0m\u001b[0;34m)\u001b[0m\u001b[0;34m\u001b[0m\u001b[0;34m\u001b[0m\u001b[0m\n\u001b[0m\u001b[1;32m     25\u001b[0m \u001b[0mstred_y\u001b[0m \u001b[0;34m=\u001b[0m \u001b[0mfloat\u001b[0m\u001b[0;34m(\u001b[0m\u001b[0minput\u001b[0m\u001b[0;34m(\u001b[0m\u001b[0;34m\"Zadejte Y souřadnici středu (v metrech): \"\u001b[0m\u001b[0;34m)\u001b[0m\u001b[0;34m)\u001b[0m\u001b[0;34m\u001b[0m\u001b[0;34m\u001b[0m\u001b[0m\n\u001b[1;32m     26\u001b[0m \u001b[0mpolomer\u001b[0m \u001b[0;34m=\u001b[0m \u001b[0mfloat\u001b[0m\u001b[0;34m(\u001b[0m\u001b[0minput\u001b[0m\u001b[0;34m(\u001b[0m\u001b[0;34m\"Zadejte poloměr kruhu (v metrech): \"\u001b[0m\u001b[0;34m)\u001b[0m\u001b[0;34m)\u001b[0m\u001b[0;34m\u001b[0m\u001b[0;34m\u001b[0m\u001b[0m\n",
            "\u001b[0;32m/usr/local/lib/python3.12/dist-packages/ipykernel/kernelbase.py\u001b[0m in \u001b[0;36mraw_input\u001b[0;34m(self, prompt)\u001b[0m\n\u001b[1;32m   1175\u001b[0m                 \u001b[0;34m\"raw_input was called, but this frontend does not support input requests.\"\u001b[0m\u001b[0;34m\u001b[0m\u001b[0;34m\u001b[0m\u001b[0m\n\u001b[1;32m   1176\u001b[0m             )\n\u001b[0;32m-> 1177\u001b[0;31m         return self._input_request(\n\u001b[0m\u001b[1;32m   1178\u001b[0m             \u001b[0mstr\u001b[0m\u001b[0;34m(\u001b[0m\u001b[0mprompt\u001b[0m\u001b[0;34m)\u001b[0m\u001b[0;34m,\u001b[0m\u001b[0;34m\u001b[0m\u001b[0;34m\u001b[0m\u001b[0m\n\u001b[1;32m   1179\u001b[0m             \u001b[0mself\u001b[0m\u001b[0;34m.\u001b[0m\u001b[0m_parent_ident\u001b[0m\u001b[0;34m[\u001b[0m\u001b[0;34m\"shell\"\u001b[0m\u001b[0;34m]\u001b[0m\u001b[0;34m,\u001b[0m\u001b[0;34m\u001b[0m\u001b[0;34m\u001b[0m\u001b[0m\n",
            "\u001b[0;32m/usr/local/lib/python3.12/dist-packages/ipykernel/kernelbase.py\u001b[0m in \u001b[0;36m_input_request\u001b[0;34m(self, prompt, ident, parent, password)\u001b[0m\n\u001b[1;32m   1217\u001b[0m             \u001b[0;32mexcept\u001b[0m \u001b[0mKeyboardInterrupt\u001b[0m\u001b[0;34m:\u001b[0m\u001b[0;34m\u001b[0m\u001b[0;34m\u001b[0m\u001b[0m\n\u001b[1;32m   1218\u001b[0m                 \u001b[0;31m# re-raise KeyboardInterrupt, to truncate traceback\u001b[0m\u001b[0;34m\u001b[0m\u001b[0;34m\u001b[0m\u001b[0m\n\u001b[0;32m-> 1219\u001b[0;31m                 \u001b[0;32mraise\u001b[0m \u001b[0mKeyboardInterrupt\u001b[0m\u001b[0;34m(\u001b[0m\u001b[0;34m\"Interrupted by user\"\u001b[0m\u001b[0;34m)\u001b[0m \u001b[0;32mfrom\u001b[0m \u001b[0;32mNone\u001b[0m\u001b[0;34m\u001b[0m\u001b[0;34m\u001b[0m\u001b[0m\n\u001b[0m\u001b[1;32m   1220\u001b[0m             \u001b[0;32mexcept\u001b[0m \u001b[0mException\u001b[0m\u001b[0;34m:\u001b[0m\u001b[0;34m\u001b[0m\u001b[0;34m\u001b[0m\u001b[0m\n\u001b[1;32m   1221\u001b[0m                 \u001b[0mself\u001b[0m\u001b[0;34m.\u001b[0m\u001b[0mlog\u001b[0m\u001b[0;34m.\u001b[0m\u001b[0mwarning\u001b[0m\u001b[0;34m(\u001b[0m\u001b[0;34m\"Invalid Message:\"\u001b[0m\u001b[0;34m,\u001b[0m \u001b[0mexc_info\u001b[0m\u001b[0;34m=\u001b[0m\u001b[0;32mTrue\u001b[0m\u001b[0;34m)\u001b[0m\u001b[0;34m\u001b[0m\u001b[0;34m\u001b[0m\u001b[0m\n",
            "\u001b[0;31mKeyboardInterrupt\u001b[0m: Interrupted by user"
          ]
        }
      ],
      "source": [
        "import numpy as np\n",
        "import matplotlib.pyplot as plt\n",
        "\n",
        "# Funkce pro vykreslení kruhu\n",
        "def vykresli_kruh(stred_x, stred_y, polomer, pocet_bodov, barva_bodu):\n",
        "    # Vytvoření úhlu pro body na kruhu\n",
        "    theta = np.linspace(0, 2 * np.pi, pocet_bodov)\n",
        "\n",
        "    # Výpočet pozic bodů na kruhu\n",
        "    x = stred_x + polomer * np.cos(theta)\n",
        "    y = stred_y + polomer * np.sin(theta)\n",
        "\n",
        "    # Vykreslení kruhu\n",
        "    plt.figure(figsize=(6, 6))\n",
        "    plt.plot(x, y, 'o', color=barva_bodu)  # Body na kruhu\n",
        "    plt.gca().set_aspect('equal', adjustable='box')  # Aby kruh nebyl deformovaný\n",
        "    plt.title('Kružnice s bodem')\n",
        "    plt.xlabel('X [m]')  # Osa X s jednotkami [m]\n",
        "    plt.ylabel('Y [m]')  # Osa Y s jednotkami [m]\n",
        "    plt.grid(True)\n",
        "    plt.show()\n",
        "\n",
        "# Parametry (můžeš si změnit podle potřeby)\n",
        "stred_x = float(input(\"Zadejte X souřadnici středu (v metrech): \"))\n",
        "stred_y = float(input(\"Zadejte Y souřadnici středu (v metrech): \"))\n",
        "polomer = float(input(\"Zadejte poloměr kruhu (v metrech): \"))\n",
        "pocet_bodov = int(input(\"Zadejte počet bodů na kruhu: \"))\n",
        "barva_bodu = input(\"Zadejte barvu bodů (např. 'red', 'blue', '#ff5733'): \")\n",
        "\n",
        "# Zavolání funkce pro vykreslení kruhu\n",
        "vykresli_kruh(stred_x, stred_y, polomer, pocet_bodov, barva_bodu)\n"
      ]
    },
    {
      "cell_type": "code",
      "source": [
        "# Zobrazíme informace o úkolu v Google Colab pomocí Markdown\n",
        "from IPython.display import display, Markdown\n",
        "\n",
        "# Text o úkolu, technologii, autorovi a kontaktu\n",
        "text = \"\"\"\n",
        "### Technologie\n",
        "- **Python**\n",
        "\n",
        "### Úkol\n",
        "- Vykreslit body na kruhu podle zadaných parametrů.\n",
        "\n",
        "### Autor\n",
        "- Lukáš Koukal\n",
        "\n",
        "### Kontakt\n",
        "- Email: [lukaskoukal@email.cz](mailto:lukaskoukal@email.cz)\n",
        "- Telefon: +420722441174\n",
        "\"\"\"\n",
        "\n",
        "# Zobrazení textu v Google Colab\n",
        "display(Markdown(text))\n"
      ],
      "metadata": {
        "colab": {
          "base_uri": "https://localhost:8080/",
          "height": 280
        },
        "id": "phNvKyRsJPQi",
        "outputId": "fe6f95a4-a605-45ab-c034-673d8db2ba3f"
      },
      "execution_count": 23,
      "outputs": [
        {
          "output_type": "display_data",
          "data": {
            "text/plain": [
              "<IPython.core.display.Markdown object>"
            ],
            "text/markdown": "\n### Technologie\n- **Python**\n\n### Úkol\n- Vykreslit body na kruhu podle zadaných parametrů.\n\n### Autor\n- Lukáš Koukal\n\n### Kontakt\n- Email: [lukaskoukal@email.cz](mailto:lukaskoukal@email.cz)\n- Telefon: +420722441174\n"
          },
          "metadata": {}
        }
      ]
    },
    {
      "cell_type": "code",
      "source": [],
      "metadata": {
        "id": "n5mO-tZjJkpp"
      },
      "execution_count": 21,
      "outputs": []
    },
    {
      "cell_type": "code",
      "source": [],
      "metadata": {
        "id": "OywCjvhzHcq0"
      },
      "execution_count": 18,
      "outputs": []
    },
    {
      "cell_type": "markdown",
      "metadata": {
        "id": "9b7008ad"
      },
      "source": [
        "### Informace o projektu\n",
        "- **Technologie**: Python, Matplotlib, NumPy\n",
        "- **Úkol**: Vykreslit body na kruhu podle zadaných parametrů\n",
        "- **Autor**: [Tvé jméno]\n",
        "- **Kontakt**: [Tvé kontaktní informace]\n",
        "\n",
        "Tento projekt používá knihovny Matplotlib pro vizualizaci a NumPy pro matematické výpočty."
      ]
    }
  ]
}